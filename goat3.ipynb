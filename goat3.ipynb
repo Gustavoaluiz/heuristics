{
 "cells": [
  {
   "metadata": {
    "ExecuteTime": {
     "end_time": "2024-06-21T01:18:05.044392Z",
     "start_time": "2024-06-21T01:18:05.041436Z"
    }
   },
   "cell_type": "code",
   "source": [
    "from random import shuffle\n",
    "import random\n",
    "import numpy as np"
   ],
   "id": "98ecba5c8333d7e5",
   "outputs": [],
   "execution_count": 3
  },
  {
   "metadata": {
    "ExecuteTime": {
     "end_time": "2024-06-21T01:19:45.467895Z",
     "start_time": "2024-06-21T01:19:45.463473Z"
    }
   },
   "cell_type": "code",
   "source": [
    "'''Esses são os números para cada cidade, ou seja na linha 0 coluna 1 temos a distância de Goiânia para Anápolis'''\n",
    "\n",
    "cidade_num = {\n",
    "    'Goiânia' :  0,\n",
    "    'Anápolis' : 1,\n",
    "    'Luziânia' : 2,\n",
    "    'Bela Vista de Goiás' : 3,\n",
    "    'Planaltina' : 4,\n",
    "    'Trindade' : 5,\n",
    "    'Pirenópolis': 6,\n",
    "    'Brasília' : 7,\n",
    "    'Goiás velho' : 8,\n",
    "    'Senador Canedo' : 9,\n",
    "    'Catalão' : 10,\n",
    "    'Goianésia' : 11,\n",
    "    'Caldas Novas' : 12,\n",
    "    'Jataí' : 13,\n",
    "    'Formosa' : 14,\n",
    "    'Vianópolis' : 15,\n",
    "    'Itumbiara' : 16,\n",
    "    'Mineiros' : 17,\n",
    "    'Goianira' : 18,\n",
    "    'Porangatu' : 19\n",
    "}"
   ],
   "id": "initial_id",
   "outputs": [],
   "execution_count": 4
  },
  {
   "metadata": {
    "ExecuteTime": {
     "end_time": "2024-06-21T01:19:45.639294Z",
     "start_time": "2024-06-21T01:19:45.603943Z"
    }
   },
   "cell_type": "code",
   "source": [
    "'''A matriz contém as distâncias reais entre as cidades, o número respectivo a linha é a cidade de saída e o respectivo a coluna é a cidade de chegada. Esse grafo em si é bidirecional, considerando as distâncias de x a y como de y a x.'''\n",
    "\n",
    "matriz = [\n",
    "    [0   , 59.6, 198 , 51.0, 260 , 26.7, 124 , 207 , 142 , 21.1, 260 , 175 , 169 , 321 , 281 , 93.8, 208 , 426 , 29.9, 409],\n",
    "    [59.3, 0   , 159 , 105 , 207 , 82.1, 63.1, 154 , 158 , 69  , 273 , 139 , 220 , 380 , 228 , 79.0, 262 , 489 , 70.2, 377],\n",
    "    [199 , 159 , 0   , 187 , 115 , 225 , 162 , 60.6, 317 , 193 , 259 , 244 , 249 , 518 , 136 , 104 , 356 , 623 , 228 , 448],\n",
    "    [51.0, 104 , 187 , 0   , 304 , 77.1, 173 , 252 , 193 , 38.9, 211 , 225 , 121 , 373 , 325 , 82.8, 185 , 477 , 80.3, 458],\n",
    "    [259 , 205 , 114 , 300 , 0   , 282 , 200 , 57.5, 367 , 261 , 348 , 276 , 363 , 580 , 38.7, 218 , 462 , 684 , 283 , 430],\n",
    "    [26.9, 81.2, 225 , 77.0, 281 , 0   , 145 , 229 , 137 , 46.8, 286 , 191 , 195 , 315 , 302 , 121 , 232 , 419 , 24.5, 422],\n",
    "    [124 , 62.8, 160 , 169 , 199 , 146 , 0   , 150 , 169 , 133 , 333 , 82.6, 287 , 444 , 220 , 139 , 326 , 548 , 146 , 345],\n",
    "    [208 , 154 , 62.0, 249 , 57.3, 233 , 159 , 0   , 314 , 218 , 316 , 206 , 311 , 528 , 78.6, 166 , 413 , 633 , 234 , 416],\n",
    "    [142 , 159 , 327 , 193 , 365 , 136 , 169 , 317 , 0   , 162 , 402 , 179 , 314 , 379 , 387 , 235 , 348 , 463 , 113 , 382],\n",
    "    [23.6, 58.0, 193 , 40.3, 269 , 49.8, 133 , 217 , 165 , 0   , 249 , 190 , 159 , 345 , 290 , 84.8, 222 , 450 , 53.0, 423],\n",
    "    [262 , 269 , 258 , 213 , 347 , 288 , 334 , 315 , 404 , 250 , 0   , 405 , 119 , 497 , 359 , 194 , 206 , 602 , 291 , 643],\n",
    "    [176 , 139 , 242 , 225 , 275 , 187 , 82.2, 198 , 179 , 189 , 409 , 0   , 344 , 493 , 290 , 215 , 382 , 597 , 164 , 243],\n",
    "    [169 , 219 , 249 , 120 , 362 , 195 , 285 , 309 , 311 , 157 , 119 , 356 , 0   , 402 , 374 , 145 , 130 , 506 , 193 , 576],\n",
    "    [321 , 380 , 518 , 372 , 579 , 315 , 449 , 527 , 379 , 343 , 498 , 494 , 404 , 0   , 601 , 414 , 289 , 108 , 338 , 727],\n",
    "    [281 , 226 , 135 , 322 , 39.0, 304 , 221 , 79.7, 384 , 282 , 355 , 291 , 373 , 601 , 0   , 239 , 483 , 706 , 305 , 445],\n",
    "    [95.2, 77.4, 105 , 82.7, 218 , 121 , 144 , 164 , 233 , 89.3, 198 , 215 , 145 , 414 , 240 , 0   , 252 , 519 , 124 , 453],\n",
    "    [209 , 262 , 356 , 186 , 462 , 235 , 331 , 410 , 348 , 220 , 206 , 382 , 130 , 289 , 483 , 252 , 0   , 394 , 236 , 616],\n",
    "    [425 , 489 , 623 , 477 , 684 , 420 , 553 , 631 , 431 , 448 , 602 , 598 , 508 , 108 , 705 , 519 , 393 , 0   , 443 , 831],\n",
    "    [29.1, 70.2, 227 , 82.7, 279 , 22.8, 146 , 227 , 114 , 48.9, 292 , 167 , 201 , 336 , 300 , 123 , 235 , 440 , 0   , 401],\n",
    "    [410 , 377 , 447 , 459 , 430 , 422 , 345 , 409 , 382 , 423 , 643 , 243 , 577 , 726 , 445 , 453 , 616 , 831 , 399 , 0]\n",
    "]\n"
   ],
   "id": "21159844d3d885f3",
   "outputs": [],
   "execution_count": 5
  },
  {
   "metadata": {
    "ExecuteTime": {
     "end_time": "2024-06-21T01:19:45.793767Z",
     "start_time": "2024-06-21T01:19:45.785212Z"
    }
   },
   "cell_type": "code",
   "source": [
    "class TabuSearch:\n",
    "    def __init__(self, matrix, tabu_size=10):\n",
    "        self.cost_matrix = matrix\n",
    "        self.len_matrix = len(matrix)\n",
    "        self.tabu_list = []\n",
    "        self.tabu_size = tabu_size\n",
    "        self.best_sol = []\n",
    "        self.best_cost = float('inf')\n",
    "\n",
    "    def _calculate_cost(self, solution):\n",
    "        \"\"\"Retorna função objetivo/custo da solução.\"\"\"\n",
    "\n",
    "        cost = 0\n",
    "        for i in range(self.len_matrix-1):\n",
    "            # Solução é uma lista dos índices da cidade.\n",
    "            # A ordem em que as cidades são visitadas é a ordem da lista.\n",
    "            # Portanto, visitamos a cidade i+1 após i.\n",
    "            cost += self.cost_matrix[solution[i]][solution[i+1]]\n",
    "        cost += self.cost_matrix[solution[-1]][solution[0]]\n",
    "\n",
    "        return cost\n",
    "\n",
    "    def _get_initial_solution(self):\n",
    "        \"\"\"Retorna uma solução inicial aleatória.\"\"\"\n",
    "\n",
    "        # Fixa a cidade de origem\n",
    "        solution = [0]\n",
    "        cities = list(range(1,20))\n",
    "        shuffle(cities)\n",
    "        solution.extend(cities)\n",
    "\n",
    "        return solution\n",
    "\n",
    "\n",
    "    def _get_neighborhood(self, solution):\n",
    "        \"\"\"Retorna vizinhança da solução através de movimentos de TROCA\"\"\"\n",
    "\n",
    "        neighborhood = []\n",
    "        for i in range(1, self.len_matrix):\n",
    "            for j in range(i+1, self.len_matrix):\n",
    "                neighbor = solution.copy()\n",
    "                neighbor[i], neighbor[j] = neighbor[j], neighbor[i]\n",
    "                move = (i, j)  # movimento que gerou o vizinho\n",
    "                neighborhood.append((neighbor, move))\n",
    "\n",
    "        return neighborhood\n",
    "\n",
    "    def _get_best_neighbor(self, neighborhood):\n",
    "        \"\"\"Retorna o melhor vizinho (candidato) da vizinhança.\"\"\"\n",
    "\n",
    "        best_neighbor_cost = float('inf')\n",
    "\n",
    "        for neighbor, move in neighborhood:\n",
    "            neighbor_cost = self._calculate_cost(neighbor)\n",
    "\n",
    "            if move not in self.tabu_list:\n",
    "                # Se o vizinho é melhor que a solução corrente e não está na lista tabu\n",
    "                # então atualiza a solução corrente.\n",
    "                if neighbor_cost < best_neighbor_cost:\n",
    "                    best_neighbor = neighbor\n",
    "                    best_neighbor_cost = neighbor_cost\n",
    "                    best_move = move\n",
    "            # Função de aspiração\n",
    "            elif neighbor_cost < self.best_cost:\n",
    "                self.tabu_list.remove(move)\n",
    "                self.best_cost = neighbor_cost\n",
    "                self.best_sol = neighbor\n",
    "\n",
    "        return best_neighbor, best_neighbor_cost, best_move\n",
    "\n",
    "    def _update_tabu(self, solution):\n",
    "        \"\"\"Atualiza lista tabu.\"\"\"\n",
    "\n",
    "        if len(self.tabu_list) >= self.tabu_size:\n",
    "            self.tabu_list.pop(0)\n",
    "        self.tabu_list.append(solution)\n",
    "\n",
    "    def search(self, max_iter=100):\n",
    "        \"\"\"Executa busca tabu.\"\"\"\n",
    "\n",
    "        # Inicialização aleatória\n",
    "        current_sol = self._get_initial_solution()\n",
    "        current_cost = self._calculate_cost(current_sol)\n",
    "        if current_cost < self.best_cost:\n",
    "            self.best_cost = current_cost\n",
    "            self.best_sol = current_sol\n",
    "\n",
    "        # Executa busca\n",
    "        for _ in range(max_iter):\n",
    "            neighborhood = self._get_neighborhood(current_sol)\n",
    "            current_sol, current_cost, current_move = self._get_best_neighbor(neighborhood)\n",
    "\n",
    "            # Atualiza melhor solução\n",
    "            if current_cost < self.best_cost:\n",
    "                self.best_cost = current_cost\n",
    "                self.best_sol = current_sol\n",
    "\n",
    "            self._update_tabu(current_move)\n",
    "\n",
    "        return self.best_sol, self.best_cost"
   ],
   "id": "4e7d6db83ad5522e",
   "outputs": [],
   "execution_count": 6
  },
  {
   "metadata": {
    "ExecuteTime": {
     "end_time": "2024-06-21T01:19:45.963244Z",
     "start_time": "2024-06-21T01:19:45.953985Z"
    }
   },
   "cell_type": "code",
   "source": [
    "class GraspReativo:\n",
    "    def __init__(self, matriz, alphas, max_iterations=10, num_amostras = 10, cidade_partida=0):\n",
    "        self.alpha = {\n",
    "            'alphas' : alphas, #Lista com os alphas possíveis de serem escolhidos\n",
    "            'scores' : np.zeros(len(alphas)), # 'Score' de cada alhpa, usado para atualizar as probabilidades do mesmo\n",
    "            'usos' : np.zeros(len(alphas), dtype=int), # Quantas vezes cada alpha foi usado ao longo das iterações\n",
    "            'num_amostras' : num_amostras, # Quantidade de amostras de cada valor de alphas para começar a atualizar as probabilidades dos mesmos\n",
    "            'qtd' : len(alphas) # Quantidade de alphas possíveis\n",
    "        }\n",
    "\n",
    "        self.max_iterations = max_iterations # Critério de parada \n",
    "\n",
    "        self.matriz = matriz # Matriz com os custos entre os nós\n",
    "\n",
    "        self.cidade_partida = cidade_partida\n",
    "\n",
    "        self.melhor_solucao = []\n",
    "        self.melhor_custo = float('inf')\n",
    "\n",
    "\n",
    "\n",
    "\n",
    "\n",
    "    def atualizar_alpha_prob(self, index, custo_solucao):\n",
    "        self.alpha['scores'][index] += 1 / (custo_solucao + 1) # Atualiza o score do alpha com o inverso do custo da solução, ou seja, um custo menor gera um score maior\n",
    "\n",
    "    def retorna_alpha(self, iteracao):\n",
    "        if iteracao >= self.alpha['num_amostras'] * self.alpha['qtd']: # Retorna as probabilidades somente se já forem retiradas num_amostras de cada alpha\n",
    "\n",
    "            prob_alphas = self.alpha['scores'] / self.alpha['usos'] # Tira a média do score de acordo com o uso, por que alphas mais escolhidos terão maior score, o que não é a intenção.\n",
    "            prob_alphas = prob_alphas / np.sum(prob_alphas) # Normaliza as probabilidades entre 0 e 1\n",
    "\n",
    "            index = np.random.choice(range(self.alpha['qtd']), p=prob_alphas) # Índice de alpha escolhido aleatoriamente\n",
    "            self.alpha['usos'][index] += 1\n",
    "\n",
    "            return self.alpha['alphas'][index], index # Retorna o alpha e seu índice\n",
    "\n",
    "\n",
    "        index = iteracao % self.alpha['qtd'] # Amostra os 10 primeiros indíces sem considerar a distribuição de probabilidades\n",
    "        self.alpha['usos'][index] += 1\n",
    "        return self.alpha['alphas'][index], index\n",
    "\n",
    "\n",
    "\n",
    "    def construcao(self, alpha):\n",
    "        '''A fase de construção é utilizada para gerar uma solução inicial, a qual mistura gulosidade e aleatoriedade, gernado um range de possíveis escolhas de caminho entre dois nós, sendo essas escolhas baseadas na solução gulosa.'''\n",
    "\n",
    "        tamanho_matriz = len(self.matriz)\n",
    "        indice_atual = self.cidade_partida # Inicializa pela cidade definida como primeira\n",
    "        solucao = [indice_atual]\n",
    "\n",
    "        restantes = set(range(tamanho_matriz)) - set(solucao) # Constroi a solução até que todos os nós tenham sido inseridos nela\n",
    "\n",
    "\n",
    "        while restantes:\n",
    "            lista_candidatos = [] # Lista para guardar os custos de adicionar cada candidato restante\n",
    "            for candidato in restantes:\n",
    "                custo = self.matriz[indice_atual][candidato] # Calcula o custo para cada candidato\n",
    "                lista_candidatos.append((custo, candidato))\n",
    "\n",
    "            lista_candidatos.sort() # Ordenar candidatos pelo custo\n",
    "\n",
    "            custo_min, custo_max = lista_candidatos[0][0], lista_candidatos[-1][0]\n",
    "            limite = custo_min + alpha * (custo_max - custo_min) # Trabalha com o alpha * amplitude para o range de escolha\n",
    "            rcl = [c for c in lista_candidatos if c[0] <= limite] # Lista de candidatos que tem custo \"aceitável\"\n",
    "\n",
    "            custo_escolhido, candidato_escolhido = random.choice(rcl) # Escolher um candidato aleatório da RCL\n",
    "            solucao.append(candidato_escolhido)\n",
    "            restantes.remove(candidato_escolhido)\n",
    "            indice_atual = candidato_escolhido\n",
    "\n",
    "        return solucao\n",
    "\n",
    "\n",
    "    def busca_local(self, solucao_inicial, iteracoes=1000, algoritmo = TabuSearch(matriz)):\n",
    "        '''É esperado que o algoritmo possua a informação da matriz e possua o método search'''\n",
    "        algoritmo.search(max_iter=iteracoes)\n",
    "\n",
    "        return algoritmo.best_sol\n",
    "\n",
    "\n",
    "\n",
    "    def calcula_custo(self, solucao):\n",
    "        custo_total = 0\n",
    "\n",
    "        for i in range(len(solucao) - 1):\n",
    "            custo_total += self.matriz[solucao[i]][solucao[i+1]]\n",
    "\n",
    "        custo_total += self.matriz[solucao[-1]][solucao[0]]  # Assumindo problema circular\n",
    "        return custo_total\n",
    "\n",
    "\n",
    "    def gerar_solucao(self):\n",
    "        for iteracao in range(self.max_iterations):\n",
    "            alpha, alpha_index = self.retorna_alpha(iteracao)\n",
    "\n",
    "            solucao_inicial = self.construcao(alpha)\n",
    "            solucao_melhorada = self.busca_local(solucao_inicial)\n",
    "            custo_solucao = self.calcula_custo(solucao_melhorada)\n",
    "\n",
    "            if custo_solucao < self.melhor_custo:\n",
    "                self.melhor_solucao = solucao_melhorada\n",
    "                self.melhor_custo = custo_solucao"
   ],
   "id": "3b8c0e570b363832",
   "outputs": [],
   "execution_count": 7
  },
  {
   "metadata": {
    "ExecuteTime": {
     "end_time": "2024-06-21T01:19:46.122333Z",
     "start_time": "2024-06-21T01:19:46.120600Z"
    }
   },
   "cell_type": "code",
   "source": "",
   "id": "4bdefd73dc5aa118",
   "outputs": [],
   "execution_count": 7
  },
  {
   "metadata": {
    "ExecuteTime": {
     "end_time": "2024-06-21T01:25:21.727919Z",
     "start_time": "2024-06-21T01:25:21.725833Z"
    }
   },
   "cell_type": "code",
   "source": [
    "alphas = [0.2, 0.25, 0.3, 0.35, 0.4]\n",
    "max_iter = 50\n",
    "num_amostras = 10\n",
    "\n",
    "grasp = GraspReativo(matriz = matriz, alphas = alphas, max_iterations= max_iter, num_amostras = num_amostras)"
   ],
   "id": "89ccb9b096a0ef08",
   "outputs": [],
   "execution_count": 20
  },
  {
   "metadata": {
    "ExecuteTime": {
     "end_time": "2024-06-21T01:25:36.867764Z",
     "start_time": "2024-06-21T01:25:21.905260Z"
    }
   },
   "cell_type": "code",
   "source": "grasp.gerar_solucao()",
   "id": "e63d2510f700f0f8",
   "outputs": [],
   "execution_count": 21
  },
  {
   "metadata": {
    "ExecuteTime": {
     "end_time": "2024-06-21T01:25:39.278224Z",
     "start_time": "2024-06-21T01:25:39.275380Z"
    }
   },
   "cell_type": "code",
   "source": "print(f'Melhor solução: {grasp.melhor_solucao}\\nMelhor custo: {grasp.melhor_custo}')",
   "id": "17847fecb01305a0",
   "outputs": [
    {
     "name": "stdout",
     "output_type": "stream",
     "text": [
      "Melhor solução: [0, 3, 9, 1, 6, 11, 19, 14, 4, 7, 2, 15, 10, 12, 16, 13, 17, 8, 18, 5]\n",
      "Melhor custo: 2681.8\n"
     ]
    }
   ],
   "execution_count": 22
  },
  {
   "metadata": {},
   "cell_type": "code",
   "outputs": [],
   "execution_count": null,
   "source": "",
   "id": "5d10c9e00c48faf"
  }
 ],
 "metadata": {
  "kernelspec": {
   "display_name": "Python 3",
   "language": "python",
   "name": "python3"
  },
  "language_info": {
   "codemirror_mode": {
    "name": "ipython",
    "version": 2
   },
   "file_extension": ".py",
   "mimetype": "text/x-python",
   "name": "python",
   "nbconvert_exporter": "python",
   "pygments_lexer": "ipython2",
   "version": "2.7.6"
  }
 },
 "nbformat": 4,
 "nbformat_minor": 5
}
