{
 "cells": [
  {
   "cell_type": "code",
   "execution_count": 1,
   "id": "initial_id",
   "metadata": {
    "ExecuteTime": {
     "end_time": "2024-06-18T23:15:46.910981Z",
     "start_time": "2024-06-18T23:15:46.832806Z"
    },
    "collapsed": true
   },
   "outputs": [],
   "source": [
    "import numpy as np\n",
    "import random\n",
    "import networkx as nx\n",
    "import matplotlib.pyplot as plt"
   ]
  },
  {
   "cell_type": "code",
   "execution_count": 20,
   "id": "2b47589c2ba3dd6a",
   "metadata": {
    "ExecuteTime": {
     "end_time": "2024-06-18T23:29:35.453327Z",
     "start_time": "2024-06-18T23:29:35.445655Z"
    }
   },
   "outputs": [],
   "source": [
    "def busca_local(sol_inicial, matriz_custos, tamanho_tabu=5, iteracoes_max=10000):\n",
    "    \"\"\"\n",
    "    Melhora uma solução pelo método de busca tabu.\n",
    "\n",
    "    Parâmetros:\n",
    "        sol_inicial (list[int]): A solução inicial a ser melhorada.\n",
    "        matriz_custos (list[list[float]]): Matriz de custos associando cada par de elementos.\n",
    "        tamanho_tabu (int): Tamanho da lista tabu.\n",
    "        iteracoes_max (int): Número máximo de iterações.\n",
    "\n",
    "    Retorna:\n",
    "        melhor_solucao (list[int]): Melhor solução encontrada.\n",
    "    \"\"\"\n",
    "    solucao_atual = sol_inicial[:]\n",
    "    melhor_solucao = sol_inicial[:]\n",
    "    melhor_custo = calcular_custo(sol_inicial, matriz_custos)\n",
    "    lista_tabu = []\n",
    "\n",
    "    iteracoes = 0\n",
    "\n",
    "    while iteracoes < iteracoes_max:\n",
    "        melhorou = False\n",
    "        melhor_vizinho = None\n",
    "        melhor_vizinho_custo = float('inf')\n",
    "\n",
    "        for i in range(len(solucao_atual)):\n",
    "            for j in range(i + 1, len(solucao_atual)):\n",
    "                nova_solucao = solucao_atual[:]\n",
    "                nova_solucao[i], nova_solucao[j] = nova_solucao[j], nova_solucao[i]\n",
    "\n",
    "                movimento = (solucao_atual[i], solucao_atual[j])\n",
    "\n",
    "                if movimento not in lista_tabu:\n",
    "                    custo_vizinho = calcular_custo(nova_solucao, matriz_custos)\n",
    "\n",
    "                    if custo_vizinho < melhor_vizinho_custo:\n",
    "                        melhor_vizinho = nova_solucao\n",
    "                        melhor_vizinho_custo = custo_vizinho\n",
    "                        melhorou = True\n",
    "\n",
    "        if melhorou:\n",
    "            solucao_atual = melhor_vizinho\n",
    "            if melhor_vizinho_custo < melhor_custo:\n",
    "                melhor_solucao = melhor_vizinho[:]\n",
    "                melhor_custo = melhor_vizinho_custo\n",
    "\n",
    "            lista_tabu.append(movimento)\n",
    "            if len(lista_tabu) > tamanho_tabu:\n",
    "                lista_tabu.pop(0)\n",
    "\n",
    "        iteracoes += 1\n",
    "\n",
    "    return melhor_solucao\n",
    "\n",
    "def calcular_custo(solucao, matriz_custos):\n",
    "    \"\"\"\n",
    "    Calcula o custo total de uma solução com base na matriz de custos.\n",
    "    \n",
    "    Parâmetros:\n",
    "        solucao (list[int]): Solução para a qual o custo será calculado.\n",
    "        matriz_custos (list[list[float]]): Matriz de custos entre os elementos.\n",
    "    \n",
    "    Retorna:\n",
    "        float: O custo total da solução.\n",
    "    \"\"\"\n",
    "    custo_total = 0\n",
    "\n",
    "    for i in range(len(solucao) - 1):\n",
    "        custo_total += matriz_custos[solucao[i]][solucao[i+1]]\n",
    "\n",
    "    custo_total += matriz_custos[solucao[-1]][solucao[0]]  # Assumindo problema circular\n",
    "    return custo_total\n"
   ]
  },
  {
   "cell_type": "code",
   "execution_count": 21,
   "id": "6b85315d49037e57",
   "metadata": {
    "ExecuteTime": {
     "end_time": "2024-06-18T23:29:37.611930Z",
     "start_time": "2024-06-18T23:29:37.608032Z"
    }
   },
   "outputs": [],
   "source": [
    "def grasp(matriz_custos, max_iter, alpha):\n",
    "    \"\"\"\n",
    "    Executa o algoritmo GRASP para um problema de otimização.\n",
    "    \n",
    "    Parâmetros:\n",
    "        matriz_custos (list[list[float]]): Matriz de custos associando cada par de elementos.\n",
    "        max_iter (int): Número máximo de iterações para executar o GRASP.\n",
    "        alpha (float): Fator de aleatoriedade na construção gulosa.\n",
    "    \n",
    "    Retorna:\n",
    "        melhor_solucao (list[int]): A melhor solução encontrada.\n",
    "    \"\"\"\n",
    "    melhor_solucao = None\n",
    "    melhor_custo = float('inf')\n",
    "\n",
    "    for _ in range(max_iter):\n",
    "        solucao_inicial = construcao_gulosa_randomizada(matriz_custos, alpha) # Constrói uma solução inicial\n",
    "        solucao = busca_local(solucao_inicial, matriz_custos) # Melhora a solução com busca local\n",
    "        custo_solucao = calcular_custo(solucao, matriz_custos) # Calcula o custo da solução\n",
    "\n",
    "        if custo_solucao < melhor_custo: # Atualiza a melhor solução, se necessário\n",
    "            melhor_solucao = solucao[:]\n",
    "            melhor_custo = custo_solucao\n",
    "\n",
    "    return melhor_solucao, melhor_custo"
   ]
  },
  {
   "cell_type": "code",
   "execution_count": 22,
   "id": "4b8eb8be84cf3c90",
   "metadata": {
    "ExecuteTime": {
     "end_time": "2024-06-18T23:29:38.076372Z",
     "start_time": "2024-06-18T23:29:38.073098Z"
    }
   },
   "outputs": [],
   "source": [
    "def grasp_reativo(matriz_custos, max_iter, alphas, num_amostras=10):\n",
    "    \"\"\"\n",
    "    Executa o algoritmo GRASP Reativo para um problema de otimização.\n",
    "    \n",
    "    Parâmetros:\n",
    "        matriz_custos (np.array): Matriz de custos associando cada par de elementos.\n",
    "        max_iter (int): Número máximo de iterações para executar o GRASP.\n",
    "        alphas (list[float]): Lista de valores possíveis para o parâmetro alpha.\n",
    "        num_amostras (int): Número de amostras para cada valor de alpha antes de ajustar probabilidades.\n",
    "    \n",
    "    Retorna:\n",
    "        tuple: A melhor solução encontrada e o custo associado.\n",
    "    \"\"\"\n",
    "\n",
    "    num_alphas = len(alphas)\n",
    "    alpha_scores = np.zeros(num_alphas)\n",
    "    alpha_usos = np.zeros(num_alphas, dtype=int)\n",
    "    melhor_solucao = None\n",
    "    melhor_custo = float('inf')\n",
    "\n",
    "    for iteracao in range(max_iter):\n",
    "\n",
    "        if iteracao >= num_alphas * num_amostras: # Selecionar um alpha baseado no desempenho passado (após as amostras iniciais)\n",
    "            prob_alphas = alpha_scores / alpha_usos\n",
    "            prob_alphas = prob_alphas / sum(prob_alphas)  # Normalizar para criar uma distribuição de probabilidade\n",
    "            alpha_index = np.random.choice(range(num_alphas), p=prob_alphas)\n",
    "        else:\n",
    "            alpha_index = iteracao % num_alphas # Inicialmente usar cada alpha um número igual de vezes\n",
    "\n",
    "        alpha = alphas[alpha_index]\n",
    "        alpha_usos[alpha_index] += 1\n",
    "\n",
    "        solucao_inicial = construcao_gulosa_randomizada(matriz_custos, alpha)\n",
    "        solucao_melhorada = busca_local(solucao_inicial, matriz_custos)\n",
    "        custo_solucao = calcular_custo(solucao_melhorada, matriz_custos)\n",
    "\n",
    "        if custo_solucao < melhor_custo:\n",
    "            melhor_solucao = solucao_melhorada\n",
    "            melhor_custo = custo_solucao\n",
    "\n",
    "        alpha_scores[alpha_index] += 1 / (custo_solucao + 1) # Atualizar a pontuação de alpha\n",
    "\n",
    "    return melhor_solucao, melhor_custo\n"
   ]
  },
  {
   "cell_type": "code",
   "execution_count": 23,
   "id": "4e07bb19e623e1ad",
   "metadata": {
    "ExecuteTime": {
     "end_time": "2024-06-18T23:29:38.132060Z",
     "start_time": "2024-06-18T23:29:38.129302Z"
    }
   },
   "outputs": [],
   "source": [
    "def algoritmo_guloso(matriz_custos):\n",
    "    n = len(matriz_custos)\n",
    "    visitados = [False] * n\n",
    "    melhor_solucao = []\n",
    "    melhor_custo = 0\n",
    "    atual = 0\n",
    "    visitados[atual] = True\n",
    "    melhor_solucao.append(atual)\n",
    "\n",
    "    for _ in range(n - 1):\n",
    "        next_index = -1\n",
    "        min_custo = float('inf')\n",
    "\n",
    "        for j in range(n):\n",
    "            if not visitados[j] and matriz_custos[atual][j] < min_custo:\n",
    "                min_custo = matriz_custos[atual][j]\n",
    "                next_index = j\n",
    "\n",
    "        visitados[next_index] = True\n",
    "        melhor_solucao.append(next_index)\n",
    "        melhor_custo += min_custo\n",
    "        atual = next_index\n",
    "\n",
    "\n",
    "    custo = calcular_custo(melhor_solucao, matriz_custos)\n",
    "\n",
    "    return melhor_solucao, custo\n"
   ]
  },
  {
   "cell_type": "code",
   "execution_count": 24,
   "id": "d00bfc4b025c7613",
   "metadata": {
    "ExecuteTime": {
     "end_time": "2024-06-18T23:29:38.150680Z",
     "start_time": "2024-06-18T23:29:38.148424Z"
    }
   },
   "outputs": [],
   "source": [
    "'''Esses são os números para cada cidade, ou seja na linha 0 coluna 1 temos a distância de Goiânia para Anápolis'''\n",
    "\n",
    "cidade_num = {\n",
    "    'Goiânia' :  0,\n",
    "    'Anápolis' : 1,\n",
    "    'Luziânia' : 2,\n",
    "    'Bela Vista de Goiás' : 3,\n",
    "    'Planaltina' : 4,\n",
    "    'Trindade' : 5,\n",
    "    'Pirenópolis': 6,\n",
    "    'Brasília' : 7,\n",
    "    'Goiás velho' : 8,\n",
    "    'Senador Canedo' : 9,\n",
    "    'Catalão' : 10,\n",
    "    'Goianésia' : 11,\n",
    "    'Caldas Novas' : 12,\n",
    "    'Jataí' : 13,\n",
    "    'Formosa' : 14,\n",
    "    'Vianópolis' : 15,\n",
    "    'Itumbiara' : 16,\n",
    "    'Mineiros' : 17,\n",
    "    'Goianira' : 18,\n",
    "    'Porangatu' : 19\n",
    "}"
   ]
  },
  {
   "cell_type": "code",
   "execution_count": 25,
   "id": "63f0bb7544faa45c",
   "metadata": {
    "ExecuteTime": {
     "end_time": "2024-06-18T23:29:38.199897Z",
     "start_time": "2024-06-18T23:29:38.192540Z"
    }
   },
   "outputs": [],
   "source": [
    "'''A matriz contém as distâncias reais entre as cidades, o número respectivo a linha é a cidade de saída e o respectivo a coluna é a cidade de chegada. Esse grafo em si é bidirecional, considerando as distâncias de x a y como de y a x.'''\n",
    "\n",
    "matriz = [\n",
    "    [0   , 59.6, 198 , 51.0, 260 , 26.7, 124 , 207 , 142 , 21.1, 260 , 175 , 169 , 321 , 281 , 93.8, 208 , 426 , 29.9, 409],\n",
    "    [59.3, 0   , 159 , 105 , 207 , 82.1, 63.1, 154 , 158 , 69  , 273 , 139 , 220 , 380 , 228 , 79.0, 262 , 489 , 70.2, 377],\n",
    "    [199 , 159 , 0   , 187 , 115 , 225 , 162 , 60.6, 317 , 193 , 259 , 244 , 249 , 518 , 136 , 104 , 356 , 623 , 228 , 448],\n",
    "    [51.0, 104 , 187 , 0   , 304 , 77.1, 173 , 252 , 193 , 38.9, 211 , 225 , 121 , 373 , 325 , 82.8, 185 , 477 , 80.3, 458],\n",
    "    [259 , 205 , 114 , 300 , 0   , 282 , 200 , 57.5, 367 , 261 , 348 , 276 , 363 , 580 , 38.7, 218 , 462 , 684 , 283 , 430],\n",
    "    [26.9, 81.2, 225 , 77.0, 281 , 0   , 145 , 229 , 137 , 46.8, 286 , 191 , 195 , 315 , 302 , 121 , 232 , 419 , 24.5, 422],\n",
    "    [124 , 62.8, 160 , 169 , 199 , 146 , 0   , 150 , 169 , 133 , 333 , 82.6, 287 , 444 , 220 , 139 , 326 , 548 , 146 , 345],\n",
    "    [208 , 154 , 62.0, 249 , 57.3, 233 , 159 , 0   , 314 , 218 , 316 , 206 , 311 , 528 , 78.6, 166 , 413 , 633 , 234 , 416],\n",
    "    [142 , 159 , 327 , 193 , 365 , 136 , 169 , 317 , 0   , 162 , 402 , 179 , 314 , 379 , 387 , 235 , 348 , 463 , 113 , 382],\n",
    "    [23.6, 58.0, 193 , 40.3, 269 , 49.8, 133 , 217 , 165 , 0   , 249 , 190 , 159 , 345 , 290 , 84.8, 222 , 450 , 53.0, 423],\n",
    "    [262 , 269 , 258 , 213 , 347 , 288 , 334 , 315 , 404 , 250 , 0   , 405 , 119 , 497 , 359 , 194 , 206 , 602 , 291 , 643],\n",
    "    [176 , 139 , 242 , 225 , 275 , 187 , 82.2, 198 , 179 , 189 , 409 , 0   , 344 , 493 , 290 , 215 , 382 , 597 , 164 , 243],\n",
    "    [169 , 219 , 249 , 120 , 362 , 195 , 285 , 309 , 311 , 157 , 119 , 356 , 0   , 402 , 374 , 145 , 130 , 506 , 193 , 576],\n",
    "    [321 , 380 , 518 , 372 , 579 , 315 , 449 , 527 , 379 , 343 , 498 , 494 , 404 , 0   , 601 , 414 , 289 , 108 , 338 , 727],\n",
    "    [281 , 226 , 135 , 322 , 39.0, 304 , 221 , 79.7, 384 , 282 , 355 , 291 , 373 , 601 , 0   , 239 , 483 , 706 , 305 , 445],\n",
    "    [95.2, 77.4, 105 , 82.7, 218 , 121 , 144 , 164 , 233 , 89.3, 198 , 215 , 145 , 414 , 240 , 0   , 252 , 519 , 124 , 453],\n",
    "    [209 , 262 , 356 , 186 , 462 , 235 , 331 , 410 , 348 , 220 , 206 , 382 , 130 , 289 , 483 , 252 , 0   , 394 , 236 , 616],\n",
    "    [425 , 489 , 623 , 477 , 684 , 420 , 553 , 631 , 431 , 448 , 602 , 598 , 508 , 108 , 705 , 519 , 393 , 0   , 443 , 831],\n",
    "    [29.1, 70.2, 227 , 82.7, 279 , 22.8, 146 , 227 , 114 , 48.9, 292 , 167 , 201 , 336 , 300 , 123 , 235 , 440 , 0   , 401],\n",
    "    [410 , 377 , 447 , 459 , 430 , 422 , 345 , 409 , 382 , 423 , 643 , 243 , 577 , 726 , 445 , 453 , 616 , 831 , 399 , 0]\n",
    "]\n"
   ]
  },
  {
   "cell_type": "code",
   "execution_count": 27,
   "id": "f342be4bdad75c13",
   "metadata": {
    "ExecuteTime": {
     "end_time": "2024-06-18T23:34:07.409535Z",
     "start_time": "2024-06-18T23:29:38.315146Z"
    }
   },
   "outputs": [],
   "source": [
    "greedy_solution_guloso, cost_guloso = algoritmo_guloso(matriz)  #implementando guloso\n",
    "# Implementando reativo\n",
    "max_iterations = 100\n",
    "alphas = [0.1, 0.2, 0.3, 0.35, 0.4, 0.45]\n",
    "best_solution_grasp_reactive, best_cost_grasp_reactive = grasp_reativo(matriz, max_iterations, alphas)"
   ]
  },
  {
   "cell_type": "code",
   "execution_count": 28,
   "id": "92e08930c2884e71",
   "metadata": {
    "ExecuteTime": {
     "end_time": "2024-06-18T23:34:07.416225Z",
     "start_time": "2024-06-18T23:34:07.414041Z"
    }
   },
   "outputs": [
    {
     "name": "stdout",
     "output_type": "stream",
     "text": [
      "Solução gulosa: [0, 9, 3, 5, 18, 1, 6, 11, 8, 15, 2, 7, 4, 14, 10, 12, 16, 13, 17, 19]\n",
      "Custo solução gulosa: 3296.5\n",
      "\n",
      "Solução GRASP:  [0, 5, 18, 8, 19, 11, 6, 1, 9, 3, 15, 2, 7, 4, 14, 10, 12, 16, 13, 17]\n",
      "Custo GRASP:  2814.8999999999996\n",
      "\n",
      "Solução GRASP REATIVO: [18, 5, 0, 3, 9, 1, 6, 11, 19, 14, 4, 7, 2, 15, 10, 12, 16, 13, 17, 8]\n",
      "Custo GRASP REATIVO: 2681.8\n"
     ]
    }
   ],
   "source": [
    "print(\"Solução gulosa:\", greedy_solution_guloso)\n",
    "print(\"Custo solução gulosa:\", cost_guloso)\n",
    "\n",
    "print('')\n",
    "\n",
    "print(\"Solução GRASP REATIVO:\", best_solution_grasp_reactive)\n",
    "print(\"Custo GRASP REATIVO:\", best_cost_grasp_reactive)"
   ]
  }
 ],
 "metadata": {
  "kernelspec": {
   "display_name": "Python 3",
   "language": "python",
   "name": "python3"
  },
  "language_info": {
   "codemirror_mode": {
    "name": "ipython",
    "version": 2
   },
   "file_extension": ".py",
   "mimetype": "text/x-python",
   "name": "python",
   "nbconvert_exporter": "python",
   "pygments_lexer": "ipython2",
   "version": "2.7.6"
  }
 },
 "nbformat": 4,
 "nbformat_minor": 5
}
